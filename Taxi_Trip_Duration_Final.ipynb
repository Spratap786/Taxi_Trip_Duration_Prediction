{
 "cells": [
  {
   "cell_type": "code",
   "execution_count": 1,
   "id": "e5ac2929",
   "metadata": {},
   "outputs": [],
   "source": [
    "import pandas as pd\n",
    "import numpy as np\n",
    "from scipy import stats\n",
    "import xgboost as xgb\n",
    "from sklearn.metrics import mean_squared_log_error\n",
    "import matplotlib.pyplot as plt\n",
    "from sklearn.model_selection import RandomizedSearchCV"
   ]
  },
  {
   "cell_type": "markdown",
   "id": "8e664416",
   "metadata": {},
   "source": [
    "# Data Preprocessing:"
   ]
  },
  {
   "cell_type": "code",
   "execution_count": 2,
   "id": "3213e244",
   "metadata": {},
   "outputs": [],
   "source": [
    "raw=pd.read_csv(\"train.csv\")"
   ]
  },
  {
   "cell_type": "code",
   "execution_count": 3,
   "id": "4694faf3",
   "metadata": {},
   "outputs": [
    {
     "data": {
      "text/plain": [
       "(1458644, 11)"
      ]
     },
     "execution_count": 3,
     "metadata": {},
     "output_type": "execute_result"
    }
   ],
   "source": [
    "raw.shape"
   ]
  },
  {
   "cell_type": "code",
   "execution_count": 4,
   "id": "d34fc2e0",
   "metadata": {},
   "outputs": [
    {
     "data": {
      "text/html": [
       "<div>\n",
       "<style scoped>\n",
       "    .dataframe tbody tr th:only-of-type {\n",
       "        vertical-align: middle;\n",
       "    }\n",
       "\n",
       "    .dataframe tbody tr th {\n",
       "        vertical-align: top;\n",
       "    }\n",
       "\n",
       "    .dataframe thead th {\n",
       "        text-align: right;\n",
       "    }\n",
       "</style>\n",
       "<table border=\"1\" class=\"dataframe\">\n",
       "  <thead>\n",
       "    <tr style=\"text-align: right;\">\n",
       "      <th></th>\n",
       "      <th>id</th>\n",
       "      <th>vendor_id</th>\n",
       "      <th>pickup_datetime</th>\n",
       "      <th>dropoff_datetime</th>\n",
       "      <th>passenger_count</th>\n",
       "      <th>pickup_longitude</th>\n",
       "      <th>pickup_latitude</th>\n",
       "      <th>dropoff_longitude</th>\n",
       "      <th>dropoff_latitude</th>\n",
       "      <th>store_and_fwd_flag</th>\n",
       "      <th>trip_duration</th>\n",
       "    </tr>\n",
       "  </thead>\n",
       "  <tbody>\n",
       "    <tr>\n",
       "      <th>0</th>\n",
       "      <td>id2875421</td>\n",
       "      <td>2</td>\n",
       "      <td>2016-03-14 17:24:55</td>\n",
       "      <td>2016-03-14 17:32:30</td>\n",
       "      <td>1</td>\n",
       "      <td>-73.982155</td>\n",
       "      <td>40.767937</td>\n",
       "      <td>-73.964630</td>\n",
       "      <td>40.765602</td>\n",
       "      <td>N</td>\n",
       "      <td>455</td>\n",
       "    </tr>\n",
       "    <tr>\n",
       "      <th>1</th>\n",
       "      <td>id2377394</td>\n",
       "      <td>1</td>\n",
       "      <td>2016-06-12 00:43:35</td>\n",
       "      <td>2016-06-12 00:54:38</td>\n",
       "      <td>1</td>\n",
       "      <td>-73.980415</td>\n",
       "      <td>40.738564</td>\n",
       "      <td>-73.999481</td>\n",
       "      <td>40.731152</td>\n",
       "      <td>N</td>\n",
       "      <td>663</td>\n",
       "    </tr>\n",
       "    <tr>\n",
       "      <th>2</th>\n",
       "      <td>id3858529</td>\n",
       "      <td>2</td>\n",
       "      <td>2016-01-19 11:35:24</td>\n",
       "      <td>2016-01-19 12:10:48</td>\n",
       "      <td>1</td>\n",
       "      <td>-73.979027</td>\n",
       "      <td>40.763939</td>\n",
       "      <td>-74.005333</td>\n",
       "      <td>40.710087</td>\n",
       "      <td>N</td>\n",
       "      <td>2124</td>\n",
       "    </tr>\n",
       "    <tr>\n",
       "      <th>3</th>\n",
       "      <td>id3504673</td>\n",
       "      <td>2</td>\n",
       "      <td>2016-04-06 19:32:31</td>\n",
       "      <td>2016-04-06 19:39:40</td>\n",
       "      <td>1</td>\n",
       "      <td>-74.010040</td>\n",
       "      <td>40.719971</td>\n",
       "      <td>-74.012268</td>\n",
       "      <td>40.706718</td>\n",
       "      <td>N</td>\n",
       "      <td>429</td>\n",
       "    </tr>\n",
       "    <tr>\n",
       "      <th>4</th>\n",
       "      <td>id2181028</td>\n",
       "      <td>2</td>\n",
       "      <td>2016-03-26 13:30:55</td>\n",
       "      <td>2016-03-26 13:38:10</td>\n",
       "      <td>1</td>\n",
       "      <td>-73.973053</td>\n",
       "      <td>40.793209</td>\n",
       "      <td>-73.972923</td>\n",
       "      <td>40.782520</td>\n",
       "      <td>N</td>\n",
       "      <td>435</td>\n",
       "    </tr>\n",
       "  </tbody>\n",
       "</table>\n",
       "</div>"
      ],
      "text/plain": [
       "          id  vendor_id      pickup_datetime     dropoff_datetime  \\\n",
       "0  id2875421          2  2016-03-14 17:24:55  2016-03-14 17:32:30   \n",
       "1  id2377394          1  2016-06-12 00:43:35  2016-06-12 00:54:38   \n",
       "2  id3858529          2  2016-01-19 11:35:24  2016-01-19 12:10:48   \n",
       "3  id3504673          2  2016-04-06 19:32:31  2016-04-06 19:39:40   \n",
       "4  id2181028          2  2016-03-26 13:30:55  2016-03-26 13:38:10   \n",
       "\n",
       "   passenger_count  pickup_longitude  pickup_latitude  dropoff_longitude  \\\n",
       "0                1        -73.982155        40.767937         -73.964630   \n",
       "1                1        -73.980415        40.738564         -73.999481   \n",
       "2                1        -73.979027        40.763939         -74.005333   \n",
       "3                1        -74.010040        40.719971         -74.012268   \n",
       "4                1        -73.973053        40.793209         -73.972923   \n",
       "\n",
       "   dropoff_latitude store_and_fwd_flag  trip_duration  \n",
       "0         40.765602                  N            455  \n",
       "1         40.731152                  N            663  \n",
       "2         40.710087                  N           2124  \n",
       "3         40.706718                  N            429  \n",
       "4         40.782520                  N            435  "
      ]
     },
     "execution_count": 4,
     "metadata": {},
     "output_type": "execute_result"
    }
   ],
   "source": [
    "raw.head()"
   ]
  },
  {
   "cell_type": "code",
   "execution_count": 5,
   "id": "04a2f18f",
   "metadata": {},
   "outputs": [],
   "source": [
    "def rush_hour_f(row):\n",
    "    r_hour=row[\"real_hour\"]\n",
    "    if (6<r_hour) & (r_hour<=10):\n",
    "        return 1\n",
    "    if (10<r_hour) & (r_hour<=16):\n",
    "        return 2\n",
    "    if (16<r_hour) & (r_hour<=20):\n",
    "        return 3\n",
    "    return 0\n",
    "    "
   ]
  },
  {
   "cell_type": "code",
   "execution_count": 6,
   "id": "933eb144",
   "metadata": {},
   "outputs": [],
   "source": [
    "raw[\"pickup_datetime\"]=pd.to_datetime(raw[\"pickup_datetime\"])"
   ]
  },
  {
   "cell_type": "code",
   "execution_count": 7,
   "id": "b84f9ea5",
   "metadata": {},
   "outputs": [
    {
     "name": "stderr",
     "output_type": "stream",
     "text": [
      "C:\\Users\\Hp\\AppData\\Local\\Temp/ipykernel_1900/2806244367.py:2: FutureWarning: Series.dt.weekofyear and Series.dt.week have been deprecated.  Please use Series.dt.isocalendar().week instead.\n",
      "  raw[\"week\"]=raw[\"pickup_datetime\"].dt.week\n"
     ]
    }
   ],
   "source": [
    "raw[\"month\"]=raw[\"pickup_datetime\"].dt.month\n",
    "raw[\"week\"]=raw[\"pickup_datetime\"].dt.week\n",
    "raw[\"weekday\"]=raw[\"pickup_datetime\"].dt.weekday\n",
    "raw[\"hour\"]=raw[\"pickup_datetime\"].dt.hour\n",
    "raw[\"minute\"]=raw[\"pickup_datetime\"].dt.minute\n",
    "raw[\"minuteoftheday\"]=raw[\"hour\"]*60 + raw[\"minute\"]\n",
    "raw[\"real_hour\"]=raw[\"minuteoftheday\"]/60"
   ]
  },
  {
   "cell_type": "code",
   "execution_count": 8,
   "id": "8e7bfad5",
   "metadata": {},
   "outputs": [],
   "source": [
    "raw[\"rush_hour\"]=raw.apply(rush_hour_f,axis=1)\n",
    "raw[\"is_weekend\"]=raw[\"weekday\"] > 4"
   ]
  },
  {
   "cell_type": "code",
   "execution_count": 9,
   "id": "2cd2f618",
   "metadata": {},
   "outputs": [
    {
     "data": {
      "text/html": [
       "<div>\n",
       "<style scoped>\n",
       "    .dataframe tbody tr th:only-of-type {\n",
       "        vertical-align: middle;\n",
       "    }\n",
       "\n",
       "    .dataframe tbody tr th {\n",
       "        vertical-align: top;\n",
       "    }\n",
       "\n",
       "    .dataframe thead th {\n",
       "        text-align: right;\n",
       "    }\n",
       "</style>\n",
       "<table border=\"1\" class=\"dataframe\">\n",
       "  <thead>\n",
       "    <tr style=\"text-align: right;\">\n",
       "      <th></th>\n",
       "      <th>id</th>\n",
       "      <th>vendor_id</th>\n",
       "      <th>pickup_datetime</th>\n",
       "      <th>dropoff_datetime</th>\n",
       "      <th>passenger_count</th>\n",
       "      <th>pickup_longitude</th>\n",
       "      <th>pickup_latitude</th>\n",
       "      <th>dropoff_longitude</th>\n",
       "      <th>dropoff_latitude</th>\n",
       "      <th>store_and_fwd_flag</th>\n",
       "      <th>trip_duration</th>\n",
       "      <th>month</th>\n",
       "      <th>week</th>\n",
       "      <th>weekday</th>\n",
       "      <th>hour</th>\n",
       "      <th>minute</th>\n",
       "      <th>minuteoftheday</th>\n",
       "      <th>real_hour</th>\n",
       "      <th>rush_hour</th>\n",
       "      <th>is_weekend</th>\n",
       "    </tr>\n",
       "  </thead>\n",
       "  <tbody>\n",
       "    <tr>\n",
       "      <th>0</th>\n",
       "      <td>id2875421</td>\n",
       "      <td>2</td>\n",
       "      <td>2016-03-14 17:24:55</td>\n",
       "      <td>2016-03-14 17:32:30</td>\n",
       "      <td>1</td>\n",
       "      <td>-73.982155</td>\n",
       "      <td>40.767937</td>\n",
       "      <td>-73.964630</td>\n",
       "      <td>40.765602</td>\n",
       "      <td>N</td>\n",
       "      <td>455</td>\n",
       "      <td>3</td>\n",
       "      <td>11</td>\n",
       "      <td>0</td>\n",
       "      <td>17</td>\n",
       "      <td>24</td>\n",
       "      <td>1044</td>\n",
       "      <td>17.400000</td>\n",
       "      <td>3</td>\n",
       "      <td>False</td>\n",
       "    </tr>\n",
       "    <tr>\n",
       "      <th>1</th>\n",
       "      <td>id2377394</td>\n",
       "      <td>1</td>\n",
       "      <td>2016-06-12 00:43:35</td>\n",
       "      <td>2016-06-12 00:54:38</td>\n",
       "      <td>1</td>\n",
       "      <td>-73.980415</td>\n",
       "      <td>40.738564</td>\n",
       "      <td>-73.999481</td>\n",
       "      <td>40.731152</td>\n",
       "      <td>N</td>\n",
       "      <td>663</td>\n",
       "      <td>6</td>\n",
       "      <td>23</td>\n",
       "      <td>6</td>\n",
       "      <td>0</td>\n",
       "      <td>43</td>\n",
       "      <td>43</td>\n",
       "      <td>0.716667</td>\n",
       "      <td>0</td>\n",
       "      <td>True</td>\n",
       "    </tr>\n",
       "    <tr>\n",
       "      <th>2</th>\n",
       "      <td>id3858529</td>\n",
       "      <td>2</td>\n",
       "      <td>2016-01-19 11:35:24</td>\n",
       "      <td>2016-01-19 12:10:48</td>\n",
       "      <td>1</td>\n",
       "      <td>-73.979027</td>\n",
       "      <td>40.763939</td>\n",
       "      <td>-74.005333</td>\n",
       "      <td>40.710087</td>\n",
       "      <td>N</td>\n",
       "      <td>2124</td>\n",
       "      <td>1</td>\n",
       "      <td>3</td>\n",
       "      <td>1</td>\n",
       "      <td>11</td>\n",
       "      <td>35</td>\n",
       "      <td>695</td>\n",
       "      <td>11.583333</td>\n",
       "      <td>2</td>\n",
       "      <td>False</td>\n",
       "    </tr>\n",
       "    <tr>\n",
       "      <th>3</th>\n",
       "      <td>id3504673</td>\n",
       "      <td>2</td>\n",
       "      <td>2016-04-06 19:32:31</td>\n",
       "      <td>2016-04-06 19:39:40</td>\n",
       "      <td>1</td>\n",
       "      <td>-74.010040</td>\n",
       "      <td>40.719971</td>\n",
       "      <td>-74.012268</td>\n",
       "      <td>40.706718</td>\n",
       "      <td>N</td>\n",
       "      <td>429</td>\n",
       "      <td>4</td>\n",
       "      <td>14</td>\n",
       "      <td>2</td>\n",
       "      <td>19</td>\n",
       "      <td>32</td>\n",
       "      <td>1172</td>\n",
       "      <td>19.533333</td>\n",
       "      <td>3</td>\n",
       "      <td>False</td>\n",
       "    </tr>\n",
       "    <tr>\n",
       "      <th>4</th>\n",
       "      <td>id2181028</td>\n",
       "      <td>2</td>\n",
       "      <td>2016-03-26 13:30:55</td>\n",
       "      <td>2016-03-26 13:38:10</td>\n",
       "      <td>1</td>\n",
       "      <td>-73.973053</td>\n",
       "      <td>40.793209</td>\n",
       "      <td>-73.972923</td>\n",
       "      <td>40.782520</td>\n",
       "      <td>N</td>\n",
       "      <td>435</td>\n",
       "      <td>3</td>\n",
       "      <td>12</td>\n",
       "      <td>5</td>\n",
       "      <td>13</td>\n",
       "      <td>30</td>\n",
       "      <td>810</td>\n",
       "      <td>13.500000</td>\n",
       "      <td>2</td>\n",
       "      <td>True</td>\n",
       "    </tr>\n",
       "  </tbody>\n",
       "</table>\n",
       "</div>"
      ],
      "text/plain": [
       "          id  vendor_id     pickup_datetime     dropoff_datetime  \\\n",
       "0  id2875421          2 2016-03-14 17:24:55  2016-03-14 17:32:30   \n",
       "1  id2377394          1 2016-06-12 00:43:35  2016-06-12 00:54:38   \n",
       "2  id3858529          2 2016-01-19 11:35:24  2016-01-19 12:10:48   \n",
       "3  id3504673          2 2016-04-06 19:32:31  2016-04-06 19:39:40   \n",
       "4  id2181028          2 2016-03-26 13:30:55  2016-03-26 13:38:10   \n",
       "\n",
       "   passenger_count  pickup_longitude  pickup_latitude  dropoff_longitude  \\\n",
       "0                1        -73.982155        40.767937         -73.964630   \n",
       "1                1        -73.980415        40.738564         -73.999481   \n",
       "2                1        -73.979027        40.763939         -74.005333   \n",
       "3                1        -74.010040        40.719971         -74.012268   \n",
       "4                1        -73.973053        40.793209         -73.972923   \n",
       "\n",
       "   dropoff_latitude store_and_fwd_flag  trip_duration  month  week  weekday  \\\n",
       "0         40.765602                  N            455      3    11        0   \n",
       "1         40.731152                  N            663      6    23        6   \n",
       "2         40.710087                  N           2124      1     3        1   \n",
       "3         40.706718                  N            429      4    14        2   \n",
       "4         40.782520                  N            435      3    12        5   \n",
       "\n",
       "   hour  minute  minuteoftheday  real_hour  rush_hour  is_weekend  \n",
       "0    17      24            1044  17.400000          3       False  \n",
       "1     0      43              43   0.716667          0        True  \n",
       "2    11      35             695  11.583333          2       False  \n",
       "3    19      32            1172  19.533333          3       False  \n",
       "4    13      30             810  13.500000          2        True  "
      ]
     },
     "execution_count": 9,
     "metadata": {},
     "output_type": "execute_result"
    }
   ],
   "source": [
    "raw.head()"
   ]
  },
  {
   "cell_type": "code",
   "execution_count": 10,
   "id": "e700eb02",
   "metadata": {},
   "outputs": [],
   "source": [
    "data=raw.drop([\"id\",\"pickup_datetime\",\"dropoff_datetime\",\"hour\",\"minute\"],axis=1)"
   ]
  },
  {
   "cell_type": "code",
   "execution_count": 11,
   "id": "c0a30e5f",
   "metadata": {},
   "outputs": [
    {
     "data": {
      "text/html": [
       "<div>\n",
       "<style scoped>\n",
       "    .dataframe tbody tr th:only-of-type {\n",
       "        vertical-align: middle;\n",
       "    }\n",
       "\n",
       "    .dataframe tbody tr th {\n",
       "        vertical-align: top;\n",
       "    }\n",
       "\n",
       "    .dataframe thead th {\n",
       "        text-align: right;\n",
       "    }\n",
       "</style>\n",
       "<table border=\"1\" class=\"dataframe\">\n",
       "  <thead>\n",
       "    <tr style=\"text-align: right;\">\n",
       "      <th></th>\n",
       "      <th>vendor_id</th>\n",
       "      <th>passenger_count</th>\n",
       "      <th>pickup_longitude</th>\n",
       "      <th>pickup_latitude</th>\n",
       "      <th>dropoff_longitude</th>\n",
       "      <th>dropoff_latitude</th>\n",
       "      <th>store_and_fwd_flag</th>\n",
       "      <th>trip_duration</th>\n",
       "      <th>month</th>\n",
       "      <th>week</th>\n",
       "      <th>weekday</th>\n",
       "      <th>minuteoftheday</th>\n",
       "      <th>real_hour</th>\n",
       "      <th>rush_hour</th>\n",
       "      <th>is_weekend</th>\n",
       "    </tr>\n",
       "  </thead>\n",
       "  <tbody>\n",
       "    <tr>\n",
       "      <th>0</th>\n",
       "      <td>2</td>\n",
       "      <td>1</td>\n",
       "      <td>-73.982155</td>\n",
       "      <td>40.767937</td>\n",
       "      <td>-73.964630</td>\n",
       "      <td>40.765602</td>\n",
       "      <td>N</td>\n",
       "      <td>455</td>\n",
       "      <td>3</td>\n",
       "      <td>11</td>\n",
       "      <td>0</td>\n",
       "      <td>1044</td>\n",
       "      <td>17.400000</td>\n",
       "      <td>3</td>\n",
       "      <td>False</td>\n",
       "    </tr>\n",
       "    <tr>\n",
       "      <th>1</th>\n",
       "      <td>1</td>\n",
       "      <td>1</td>\n",
       "      <td>-73.980415</td>\n",
       "      <td>40.738564</td>\n",
       "      <td>-73.999481</td>\n",
       "      <td>40.731152</td>\n",
       "      <td>N</td>\n",
       "      <td>663</td>\n",
       "      <td>6</td>\n",
       "      <td>23</td>\n",
       "      <td>6</td>\n",
       "      <td>43</td>\n",
       "      <td>0.716667</td>\n",
       "      <td>0</td>\n",
       "      <td>True</td>\n",
       "    </tr>\n",
       "    <tr>\n",
       "      <th>2</th>\n",
       "      <td>2</td>\n",
       "      <td>1</td>\n",
       "      <td>-73.979027</td>\n",
       "      <td>40.763939</td>\n",
       "      <td>-74.005333</td>\n",
       "      <td>40.710087</td>\n",
       "      <td>N</td>\n",
       "      <td>2124</td>\n",
       "      <td>1</td>\n",
       "      <td>3</td>\n",
       "      <td>1</td>\n",
       "      <td>695</td>\n",
       "      <td>11.583333</td>\n",
       "      <td>2</td>\n",
       "      <td>False</td>\n",
       "    </tr>\n",
       "    <tr>\n",
       "      <th>3</th>\n",
       "      <td>2</td>\n",
       "      <td>1</td>\n",
       "      <td>-74.010040</td>\n",
       "      <td>40.719971</td>\n",
       "      <td>-74.012268</td>\n",
       "      <td>40.706718</td>\n",
       "      <td>N</td>\n",
       "      <td>429</td>\n",
       "      <td>4</td>\n",
       "      <td>14</td>\n",
       "      <td>2</td>\n",
       "      <td>1172</td>\n",
       "      <td>19.533333</td>\n",
       "      <td>3</td>\n",
       "      <td>False</td>\n",
       "    </tr>\n",
       "    <tr>\n",
       "      <th>4</th>\n",
       "      <td>2</td>\n",
       "      <td>1</td>\n",
       "      <td>-73.973053</td>\n",
       "      <td>40.793209</td>\n",
       "      <td>-73.972923</td>\n",
       "      <td>40.782520</td>\n",
       "      <td>N</td>\n",
       "      <td>435</td>\n",
       "      <td>3</td>\n",
       "      <td>12</td>\n",
       "      <td>5</td>\n",
       "      <td>810</td>\n",
       "      <td>13.500000</td>\n",
       "      <td>2</td>\n",
       "      <td>True</td>\n",
       "    </tr>\n",
       "  </tbody>\n",
       "</table>\n",
       "</div>"
      ],
      "text/plain": [
       "   vendor_id  passenger_count  pickup_longitude  pickup_latitude  \\\n",
       "0          2                1        -73.982155        40.767937   \n",
       "1          1                1        -73.980415        40.738564   \n",
       "2          2                1        -73.979027        40.763939   \n",
       "3          2                1        -74.010040        40.719971   \n",
       "4          2                1        -73.973053        40.793209   \n",
       "\n",
       "   dropoff_longitude  dropoff_latitude store_and_fwd_flag  trip_duration  \\\n",
       "0         -73.964630         40.765602                  N            455   \n",
       "1         -73.999481         40.731152                  N            663   \n",
       "2         -74.005333         40.710087                  N           2124   \n",
       "3         -74.012268         40.706718                  N            429   \n",
       "4         -73.972923         40.782520                  N            435   \n",
       "\n",
       "   month  week  weekday  minuteoftheday  real_hour  rush_hour  is_weekend  \n",
       "0      3    11        0            1044  17.400000          3       False  \n",
       "1      6    23        6              43   0.716667          0        True  \n",
       "2      1     3        1             695  11.583333          2       False  \n",
       "3      4    14        2            1172  19.533333          3       False  \n",
       "4      3    12        5             810  13.500000          2        True  "
      ]
     },
     "execution_count": 11,
     "metadata": {},
     "output_type": "execute_result"
    }
   ],
   "source": [
    "data.head()"
   ]
  },
  {
   "cell_type": "code",
   "execution_count": 12,
   "id": "10b54820",
   "metadata": {},
   "outputs": [],
   "source": [
    "from math import radians, cos, sin, asin, sqrt"
   ]
  },
  {
   "cell_type": "code",
   "execution_count": 13,
   "id": "04921bb7",
   "metadata": {},
   "outputs": [],
   "source": [
    "def haversine(row):\n",
    "    lon1 = row['pickup_longitude']\n",
    "    lat1 = row['pickup_latitude']\n",
    "    lon2 = row['dropoff_longitude']\n",
    "    lat2 = row['dropoff_latitude']\n",
    "    lon1, lat1, lon2, lat2 = map(radians, [lon1, lat1, lon2, lat2])\n",
    "    dlon = lon2 - lon1 \n",
    "    dlat = lat2 - lat1\n",
    "    a = sin(dlat/2)**2 + cos(lat1) * cos(lat2) * sin(dlon/2)**2\n",
    "    c = 2 * asin(sqrt(a)) \n",
    "    km = 6369 * c\n",
    "    return km"
   ]
  },
  {
   "cell_type": "code",
   "execution_count": 14,
   "id": "7820e1f1",
   "metadata": {},
   "outputs": [],
   "source": [
    "data[\"distance\"]=data.apply(haversine,axis=1)"
   ]
  },
  {
   "cell_type": "code",
   "execution_count": 15,
   "id": "aa573bf8",
   "metadata": {},
   "outputs": [
    {
     "data": {
      "text/html": [
       "<div>\n",
       "<style scoped>\n",
       "    .dataframe tbody tr th:only-of-type {\n",
       "        vertical-align: middle;\n",
       "    }\n",
       "\n",
       "    .dataframe tbody tr th {\n",
       "        vertical-align: top;\n",
       "    }\n",
       "\n",
       "    .dataframe thead th {\n",
       "        text-align: right;\n",
       "    }\n",
       "</style>\n",
       "<table border=\"1\" class=\"dataframe\">\n",
       "  <thead>\n",
       "    <tr style=\"text-align: right;\">\n",
       "      <th></th>\n",
       "      <th>vendor_id</th>\n",
       "      <th>passenger_count</th>\n",
       "      <th>pickup_longitude</th>\n",
       "      <th>pickup_latitude</th>\n",
       "      <th>dropoff_longitude</th>\n",
       "      <th>dropoff_latitude</th>\n",
       "      <th>store_and_fwd_flag</th>\n",
       "      <th>trip_duration</th>\n",
       "      <th>month</th>\n",
       "      <th>week</th>\n",
       "      <th>weekday</th>\n",
       "      <th>minuteoftheday</th>\n",
       "      <th>real_hour</th>\n",
       "      <th>rush_hour</th>\n",
       "      <th>is_weekend</th>\n",
       "      <th>distance</th>\n",
       "    </tr>\n",
       "  </thead>\n",
       "  <tbody>\n",
       "    <tr>\n",
       "      <th>0</th>\n",
       "      <td>2</td>\n",
       "      <td>1</td>\n",
       "      <td>-73.982155</td>\n",
       "      <td>40.767937</td>\n",
       "      <td>-73.964630</td>\n",
       "      <td>40.765602</td>\n",
       "      <td>N</td>\n",
       "      <td>455</td>\n",
       "      <td>3</td>\n",
       "      <td>11</td>\n",
       "      <td>0</td>\n",
       "      <td>1044</td>\n",
       "      <td>17.400000</td>\n",
       "      <td>3</td>\n",
       "      <td>False</td>\n",
       "      <td>1.498050</td>\n",
       "    </tr>\n",
       "    <tr>\n",
       "      <th>1</th>\n",
       "      <td>1</td>\n",
       "      <td>1</td>\n",
       "      <td>-73.980415</td>\n",
       "      <td>40.738564</td>\n",
       "      <td>-73.999481</td>\n",
       "      <td>40.731152</td>\n",
       "      <td>N</td>\n",
       "      <td>663</td>\n",
       "      <td>6</td>\n",
       "      <td>23</td>\n",
       "      <td>6</td>\n",
       "      <td>43</td>\n",
       "      <td>0.716667</td>\n",
       "      <td>0</td>\n",
       "      <td>True</td>\n",
       "      <td>1.804940</td>\n",
       "    </tr>\n",
       "    <tr>\n",
       "      <th>2</th>\n",
       "      <td>2</td>\n",
       "      <td>1</td>\n",
       "      <td>-73.979027</td>\n",
       "      <td>40.763939</td>\n",
       "      <td>-74.005333</td>\n",
       "      <td>40.710087</td>\n",
       "      <td>N</td>\n",
       "      <td>2124</td>\n",
       "      <td>1</td>\n",
       "      <td>3</td>\n",
       "      <td>1</td>\n",
       "      <td>695</td>\n",
       "      <td>11.583333</td>\n",
       "      <td>2</td>\n",
       "      <td>False</td>\n",
       "      <td>6.383094</td>\n",
       "    </tr>\n",
       "    <tr>\n",
       "      <th>3</th>\n",
       "      <td>2</td>\n",
       "      <td>1</td>\n",
       "      <td>-74.010040</td>\n",
       "      <td>40.719971</td>\n",
       "      <td>-74.012268</td>\n",
       "      <td>40.706718</td>\n",
       "      <td>N</td>\n",
       "      <td>429</td>\n",
       "      <td>4</td>\n",
       "      <td>14</td>\n",
       "      <td>2</td>\n",
       "      <td>1172</td>\n",
       "      <td>19.533333</td>\n",
       "      <td>3</td>\n",
       "      <td>False</td>\n",
       "      <td>1.485032</td>\n",
       "    </tr>\n",
       "    <tr>\n",
       "      <th>4</th>\n",
       "      <td>2</td>\n",
       "      <td>1</td>\n",
       "      <td>-73.973053</td>\n",
       "      <td>40.793209</td>\n",
       "      <td>-73.972923</td>\n",
       "      <td>40.782520</td>\n",
       "      <td>N</td>\n",
       "      <td>435</td>\n",
       "      <td>3</td>\n",
       "      <td>12</td>\n",
       "      <td>5</td>\n",
       "      <td>810</td>\n",
       "      <td>13.500000</td>\n",
       "      <td>2</td>\n",
       "      <td>True</td>\n",
       "      <td>1.188215</td>\n",
       "    </tr>\n",
       "  </tbody>\n",
       "</table>\n",
       "</div>"
      ],
      "text/plain": [
       "   vendor_id  passenger_count  pickup_longitude  pickup_latitude  \\\n",
       "0          2                1        -73.982155        40.767937   \n",
       "1          1                1        -73.980415        40.738564   \n",
       "2          2                1        -73.979027        40.763939   \n",
       "3          2                1        -74.010040        40.719971   \n",
       "4          2                1        -73.973053        40.793209   \n",
       "\n",
       "   dropoff_longitude  dropoff_latitude store_and_fwd_flag  trip_duration  \\\n",
       "0         -73.964630         40.765602                  N            455   \n",
       "1         -73.999481         40.731152                  N            663   \n",
       "2         -74.005333         40.710087                  N           2124   \n",
       "3         -74.012268         40.706718                  N            429   \n",
       "4         -73.972923         40.782520                  N            435   \n",
       "\n",
       "   month  week  weekday  minuteoftheday  real_hour  rush_hour  is_weekend  \\\n",
       "0      3    11        0            1044  17.400000          3       False   \n",
       "1      6    23        6              43   0.716667          0        True   \n",
       "2      1     3        1             695  11.583333          2       False   \n",
       "3      4    14        2            1172  19.533333          3       False   \n",
       "4      3    12        5             810  13.500000          2        True   \n",
       "\n",
       "   distance  \n",
       "0  1.498050  \n",
       "1  1.804940  \n",
       "2  6.383094  \n",
       "3  1.485032  \n",
       "4  1.188215  "
      ]
     },
     "execution_count": 15,
     "metadata": {},
     "output_type": "execute_result"
    }
   ],
   "source": [
    "data.head()"
   ]
  },
  {
   "cell_type": "code",
   "execution_count": 16,
   "id": "7e157ccc",
   "metadata": {},
   "outputs": [],
   "source": [
    "clean_up={\"store_and_fwd_flag\":{\"N\":0,\"Y\":1},\n",
    "          \"is_weekend\":{False:0,True:1}}"
   ]
  },
  {
   "cell_type": "code",
   "execution_count": 17,
   "id": "cc48da43",
   "metadata": {},
   "outputs": [],
   "source": [
    "data=data.replace(clean_up)"
   ]
  },
  {
   "cell_type": "code",
   "execution_count": 18,
   "id": "7a3a8448",
   "metadata": {},
   "outputs": [],
   "source": [
    "import statsmodels.api as sm"
   ]
  },
  {
   "cell_type": "code",
   "execution_count": 19,
   "id": "1464270f",
   "metadata": {},
   "outputs": [
    {
     "name": "stderr",
     "output_type": "stream",
     "text": [
      "C:\\Users\\Hp\\anaconda3\\lib\\site-packages\\statsmodels\\tsa\\tsatools.py:142: FutureWarning: In a future version of pandas all arguments of concat except for the argument 'objs' will be keyword-only\n",
      "  x = pd.concat(x[::order], 1)\n"
     ]
    }
   ],
   "source": [
    "X=data.drop(columns=[\"trip_duration\"])\n",
    "y=data[\"trip_duration\"]\n",
    "X=sm.add_constant(X)"
   ]
  },
  {
   "cell_type": "code",
   "execution_count": 20,
   "id": "021a1796",
   "metadata": {},
   "outputs": [
    {
     "data": {
      "text/html": [
       "<div>\n",
       "<style scoped>\n",
       "    .dataframe tbody tr th:only-of-type {\n",
       "        vertical-align: middle;\n",
       "    }\n",
       "\n",
       "    .dataframe tbody tr th {\n",
       "        vertical-align: top;\n",
       "    }\n",
       "\n",
       "    .dataframe thead th {\n",
       "        text-align: right;\n",
       "    }\n",
       "</style>\n",
       "<table border=\"1\" class=\"dataframe\">\n",
       "  <thead>\n",
       "    <tr style=\"text-align: right;\">\n",
       "      <th></th>\n",
       "      <th>const</th>\n",
       "      <th>vendor_id</th>\n",
       "      <th>passenger_count</th>\n",
       "      <th>pickup_longitude</th>\n",
       "      <th>pickup_latitude</th>\n",
       "      <th>dropoff_longitude</th>\n",
       "      <th>dropoff_latitude</th>\n",
       "      <th>store_and_fwd_flag</th>\n",
       "      <th>month</th>\n",
       "      <th>week</th>\n",
       "      <th>weekday</th>\n",
       "      <th>minuteoftheday</th>\n",
       "      <th>real_hour</th>\n",
       "      <th>rush_hour</th>\n",
       "      <th>is_weekend</th>\n",
       "      <th>distance</th>\n",
       "    </tr>\n",
       "  </thead>\n",
       "  <tbody>\n",
       "    <tr>\n",
       "      <th>0</th>\n",
       "      <td>1.0</td>\n",
       "      <td>2</td>\n",
       "      <td>1</td>\n",
       "      <td>-73.982155</td>\n",
       "      <td>40.767937</td>\n",
       "      <td>-73.964630</td>\n",
       "      <td>40.765602</td>\n",
       "      <td>0</td>\n",
       "      <td>3</td>\n",
       "      <td>11</td>\n",
       "      <td>0</td>\n",
       "      <td>1044</td>\n",
       "      <td>17.400000</td>\n",
       "      <td>3</td>\n",
       "      <td>0</td>\n",
       "      <td>1.498050</td>\n",
       "    </tr>\n",
       "    <tr>\n",
       "      <th>1</th>\n",
       "      <td>1.0</td>\n",
       "      <td>1</td>\n",
       "      <td>1</td>\n",
       "      <td>-73.980415</td>\n",
       "      <td>40.738564</td>\n",
       "      <td>-73.999481</td>\n",
       "      <td>40.731152</td>\n",
       "      <td>0</td>\n",
       "      <td>6</td>\n",
       "      <td>23</td>\n",
       "      <td>6</td>\n",
       "      <td>43</td>\n",
       "      <td>0.716667</td>\n",
       "      <td>0</td>\n",
       "      <td>1</td>\n",
       "      <td>1.804940</td>\n",
       "    </tr>\n",
       "    <tr>\n",
       "      <th>2</th>\n",
       "      <td>1.0</td>\n",
       "      <td>2</td>\n",
       "      <td>1</td>\n",
       "      <td>-73.979027</td>\n",
       "      <td>40.763939</td>\n",
       "      <td>-74.005333</td>\n",
       "      <td>40.710087</td>\n",
       "      <td>0</td>\n",
       "      <td>1</td>\n",
       "      <td>3</td>\n",
       "      <td>1</td>\n",
       "      <td>695</td>\n",
       "      <td>11.583333</td>\n",
       "      <td>2</td>\n",
       "      <td>0</td>\n",
       "      <td>6.383094</td>\n",
       "    </tr>\n",
       "    <tr>\n",
       "      <th>3</th>\n",
       "      <td>1.0</td>\n",
       "      <td>2</td>\n",
       "      <td>1</td>\n",
       "      <td>-74.010040</td>\n",
       "      <td>40.719971</td>\n",
       "      <td>-74.012268</td>\n",
       "      <td>40.706718</td>\n",
       "      <td>0</td>\n",
       "      <td>4</td>\n",
       "      <td>14</td>\n",
       "      <td>2</td>\n",
       "      <td>1172</td>\n",
       "      <td>19.533333</td>\n",
       "      <td>3</td>\n",
       "      <td>0</td>\n",
       "      <td>1.485032</td>\n",
       "    </tr>\n",
       "    <tr>\n",
       "      <th>4</th>\n",
       "      <td>1.0</td>\n",
       "      <td>2</td>\n",
       "      <td>1</td>\n",
       "      <td>-73.973053</td>\n",
       "      <td>40.793209</td>\n",
       "      <td>-73.972923</td>\n",
       "      <td>40.782520</td>\n",
       "      <td>0</td>\n",
       "      <td>3</td>\n",
       "      <td>12</td>\n",
       "      <td>5</td>\n",
       "      <td>810</td>\n",
       "      <td>13.500000</td>\n",
       "      <td>2</td>\n",
       "      <td>1</td>\n",
       "      <td>1.188215</td>\n",
       "    </tr>\n",
       "  </tbody>\n",
       "</table>\n",
       "</div>"
      ],
      "text/plain": [
       "   const  vendor_id  passenger_count  pickup_longitude  pickup_latitude  \\\n",
       "0    1.0          2                1        -73.982155        40.767937   \n",
       "1    1.0          1                1        -73.980415        40.738564   \n",
       "2    1.0          2                1        -73.979027        40.763939   \n",
       "3    1.0          2                1        -74.010040        40.719971   \n",
       "4    1.0          2                1        -73.973053        40.793209   \n",
       "\n",
       "   dropoff_longitude  dropoff_latitude  store_and_fwd_flag  month  week  \\\n",
       "0         -73.964630         40.765602                   0      3    11   \n",
       "1         -73.999481         40.731152                   0      6    23   \n",
       "2         -74.005333         40.710087                   0      1     3   \n",
       "3         -74.012268         40.706718                   0      4    14   \n",
       "4         -73.972923         40.782520                   0      3    12   \n",
       "\n",
       "   weekday  minuteoftheday  real_hour  rush_hour  is_weekend  distance  \n",
       "0        0            1044  17.400000          3           0  1.498050  \n",
       "1        6              43   0.716667          0           1  1.804940  \n",
       "2        1             695  11.583333          2           0  6.383094  \n",
       "3        2            1172  19.533333          3           0  1.485032  \n",
       "4        5             810  13.500000          2           1  1.188215  "
      ]
     },
     "execution_count": 20,
     "metadata": {},
     "output_type": "execute_result"
    }
   ],
   "source": [
    "X.head()"
   ]
  },
  {
   "cell_type": "code",
   "execution_count": 21,
   "id": "3f9d5286",
   "metadata": {},
   "outputs": [
    {
     "data": {
      "text/plain": [
       "0           455\n",
       "1           663\n",
       "2          2124\n",
       "3           429\n",
       "4           435\n",
       "           ... \n",
       "1458639     778\n",
       "1458640     655\n",
       "1458641     764\n",
       "1458642     373\n",
       "1458643     198\n",
       "Name: trip_duration, Length: 1458644, dtype: int64"
      ]
     },
     "execution_count": 21,
     "metadata": {},
     "output_type": "execute_result"
    }
   ],
   "source": [
    "y"
   ]
  },
  {
   "cell_type": "code",
   "execution_count": 22,
   "id": "27645fab",
   "metadata": {},
   "outputs": [],
   "source": [
    "log_y=np.log(y)"
   ]
  },
  {
   "cell_type": "code",
   "execution_count": 23,
   "id": "b2437f09",
   "metadata": {},
   "outputs": [
    {
     "data": {
      "text/plain": [
       "0          6.120297\n",
       "1          6.496775\n",
       "2          7.661056\n",
       "3          6.061457\n",
       "4          6.075346\n",
       "             ...   \n",
       "1458639    6.656727\n",
       "1458640    6.484635\n",
       "1458641    6.638568\n",
       "1458642    5.921578\n",
       "1458643    5.288267\n",
       "Name: trip_duration, Length: 1458644, dtype: float64"
      ]
     },
     "execution_count": 23,
     "metadata": {},
     "output_type": "execute_result"
    }
   ],
   "source": [
    "log_y"
   ]
  },
  {
   "cell_type": "code",
   "execution_count": 24,
   "id": "3c38eadb",
   "metadata": {},
   "outputs": [],
   "source": [
    "from sklearn.model_selection import train_test_split\n",
    "X_train,x_test,y_train,y_test=train_test_split(X,log_y,test_size=0.2,random_state=3)"
   ]
  },
  {
   "cell_type": "markdown",
   "id": "169ebe30",
   "metadata": {},
   "source": [
    "# Linear Regression:"
   ]
  },
  {
   "cell_type": "code",
   "execution_count": 35,
   "id": "377445f5",
   "metadata": {},
   "outputs": [
    {
     "name": "stdout",
     "output_type": "stream",
     "text": [
      "                            OLS Regression Results                            \n",
      "==============================================================================\n",
      "Dep. Variable:          trip_duration   R-squared:                       0.010\n",
      "Model:                            OLS   Adj. R-squared:                  0.010\n",
      "Method:                 Least Squares   F-statistic:                     817.0\n",
      "Date:                Thu, 07 Jul 2022   Prob (F-statistic):               0.00\n",
      "Time:                        11:37:42   Log-Likelihood:            -1.1666e+07\n",
      "No. Observations:             1166915   AIC:                         2.333e+07\n",
      "Df Residuals:                 1166900   BIC:                         2.333e+07\n",
      "Df Model:                          14                                         \n",
      "Covariance Type:            nonrobust                                         \n",
      "======================================================================================\n",
      "                         coef    std err          t      P>|t|      [0.025      0.975]\n",
      "--------------------------------------------------------------------------------------\n",
      "const               1.146e+05   1.02e+04     11.230      0.000    9.46e+04    1.35e+05\n",
      "vendor_id            197.2241     10.333     19.087      0.000     176.972     217.477\n",
      "passenger_count        9.2872      3.911      2.375      0.018       1.622      16.953\n",
      "pickup_longitude     -29.5590    120.209     -0.246      0.806    -265.164     206.046\n",
      "pickup_latitude    -1983.9699    174.894    -11.344      0.000   -2326.757   -1641.183\n",
      "dropoff_longitude    144.2654    118.364      1.219      0.223     -87.724     376.255\n",
      "dropoff_latitude    -619.6501    161.839     -3.829      0.000    -936.849    -302.451\n",
      "store_and_fwd_flag    34.3600     66.426      0.517      0.605     -95.832     164.552\n",
      "month                 21.5863      4.236      5.096      0.000      13.283      29.889\n",
      "week                  -1.0467      0.832     -1.258      0.209      -2.678       0.585\n",
      "weekday               20.6172      4.050      5.091      0.000      12.680      28.555\n",
      "minuteoftheday         0.0373      0.013      2.861      0.004       0.012       0.063\n",
      "real_hour              0.0006      0.000      2.861      0.004       0.000       0.001\n",
      "rush_hour             62.3011      4.321     14.419      0.000      53.833      70.770\n",
      "is_weekend          -116.4619     17.517     -6.648      0.000    -150.795     -82.128\n",
      "distance             117.7340      1.258     93.562      0.000     115.268     120.200\n",
      "================================================================================\n",
      "Omnibus:                  6746564.780   Durbin-Watson:                     2.001\n",
      "Prob(Omnibus):                  0.000   Jarque-Bera (JB):   2159537641514086.250\n",
      "Skew:                         366.867   Prob(JB):                           0.00\n",
      "Kurtosis:                  210751.148   Cond. No.                       7.37e+16\n",
      "================================================================================\n",
      "\n",
      "Notes:\n",
      "[1] Standard Errors assume that the covariance matrix of the errors is correctly specified.\n",
      "[2] The smallest eigenvalue is 1.88e-22. This might indicate that there are\n",
      "strong multicollinearity problems or that the design matrix is singular.\n"
     ]
    }
   ],
   "source": [
    "results=sm.OLS(y_train,X_train).fit()\n",
    "print(results.summary())"
   ]
  },
  {
   "cell_type": "code",
   "execution_count": 42,
   "id": "5c58a9b0",
   "metadata": {},
   "outputs": [],
   "source": [
    "def lm_stat(X,y,y_pred):\n",
    "    try: \n",
    "        y.shape[1] == 1\n",
    "        # take first dimension as vector\n",
    "        y = y.iloc[:,0]\n",
    "    except:\n",
    "        pass\n",
    "    y = np.array(y)\n",
    "    \n",
    "    #Residuals\n",
    "    residuals=np.array(y-y_pred)\n",
    "    \n",
    "    #Hat_matrix:\n",
    "    H = np.dot(np.array(np.dot(X , np.linalg.inv(np.dot(X.T , X)))) , X.T)\n",
    "    \n",
    "    #leverage:\n",
    "    h_ii=H.diagonal()\n",
    "    \n",
    "    #Externalised studentised residual:\n",
    "    \n",
    "    # Estimate variance (externalised)\n",
    "     # Estimate variance (externalised)\n",
    "    σi_est = []\n",
    "    for i in range(X.shape[0]):\n",
    "        # exclude ith observation from estimation of variance\n",
    "        external_residuals = np.delete(residuals, i)\n",
    "        σi_est += [np.sqrt((1 / (X.shape[0] - X.shape[1] - 1)) * np.sum(np.square(external_residuals)))]\n",
    "    σi_est = np.array(σi_est)\n",
    "    \n",
    "    # Externally studentised residuals\n",
    "    t = residuals / σi_est * np.sqrt(1 - h_ii)\n",
    "    \n",
    "     # Return dataframe\n",
    "    return pd.DataFrame({'residual': residuals,\n",
    "                         'leverage': h_ii, \n",
    "                         'studentised_residual': t,\n",
    "                         'y_pred': y_pred})"
   ]
  },
  {
   "cell_type": "code",
   "execution_count": 43,
   "id": "efaffb77",
   "metadata": {},
   "outputs": [],
   "source": [
    "y_pred=results.predict(X_train)\n",
    "X_train=np.array(X_train)"
   ]
  },
  {
   "cell_type": "code",
   "execution_count": 51,
   "id": "0afeb4f3",
   "metadata": {},
   "outputs": [],
   "source": [
    "influence = results.get_influence()\n",
    "leverage = influence.hat_matrix_diag\n",
    "residuals=np.array(y_train-y_pred)\n",
    "standardized_residuals = influence.resid_studentized_internal"
   ]
  },
  {
   "cell_type": "code",
   "execution_count": 52,
   "id": "5b3ae4a8",
   "metadata": {},
   "outputs": [],
   "source": [
    "import seaborn as sns"
   ]
  },
  {
   "cell_type": "markdown",
   "id": "1247904b",
   "metadata": {},
   "source": [
    "## Residual Plot:"
   ]
  },
  {
   "cell_type": "code",
   "execution_count": 58,
   "id": "fc02e2fb",
   "metadata": {},
   "outputs": [],
   "source": [
    "standardized_residuals[standardized_residuals>100]=0\n",
    "y_pred[y_pred>20000]=20000"
   ]
  },
  {
   "cell_type": "code",
   "execution_count": 59,
   "id": "266a9f66",
   "metadata": {},
   "outputs": [
    {
     "data": {
      "image/png": "[encoded data removed]",
      "text/plain": [
       "<Figure size 432x288 with 1 Axes>"
      ]
     },
     "metadata": {
      "needs_background": "light"
     },
     "output_type": "display_data"
    }
   ],
   "source": [
    "ax=sns.scatterplot(x=y_pred,y=standardized_residuals)\n",
    "plt.xlabel('Fitted values')\n",
    "plt.ylabel('standardized_residuals')\n",
    "plt.title('residual plot', fontweight='bold');"
   ]
  },
  {
   "cell_type": "markdown",
   "id": "826b0e9e",
   "metadata": {},
   "source": [
    "#### From the above residual plot it is clear that there is a strong non-linear relationship between the predictor and responce."
   ]
  },
  {
   "cell_type": "markdown",
   "id": "a90082b9",
   "metadata": {},
   "source": [
    "## Leverage vs Residual:"
   ]
  },
  {
   "cell_type": "code",
   "execution_count": 60,
   "id": "9e2c5bb1",
   "metadata": {},
   "outputs": [
    {
     "data": {
      "image/png": "[encoded data removed]",
      "text/plain": [
       "<Figure size 432x288 with 1 Axes>"
      ]
     },
     "metadata": {
      "needs_background": "light"
     },
     "output_type": "display_data"
    }
   ],
   "source": [
    "ax=sns.scatterplot(x=leverage,y=standardized_residuals)\n",
    "plt.xlabel('leverage')\n",
    "plt.ylabel('studentized_residuals')\n",
    "plt.title('Leverage vs studentised residual plot', fontweight='bold');"
   ]
  },
  {
   "cell_type": "code",
   "execution_count": 19,
   "id": "e525c821",
   "metadata": {},
   "outputs": [],
   "source": [
    "data1=data.copy()"
   ]
  },
  {
   "cell_type": "code",
   "execution_count": 20,
   "id": "8aaca212",
   "metadata": {},
   "outputs": [
    {
     "data": {
      "text/html": [
       "<div>\n",
       "<style scoped>\n",
       "    .dataframe tbody tr th:only-of-type {\n",
       "        vertical-align: middle;\n",
       "    }\n",
       "\n",
       "    .dataframe tbody tr th {\n",
       "        vertical-align: top;\n",
       "    }\n",
       "\n",
       "    .dataframe thead th {\n",
       "        text-align: right;\n",
       "    }\n",
       "</style>\n",
       "<table border=\"1\" class=\"dataframe\">\n",
       "  <thead>\n",
       "    <tr style=\"text-align: right;\">\n",
       "      <th></th>\n",
       "      <th>vendor_id</th>\n",
       "      <th>passenger_count</th>\n",
       "      <th>pickup_longitude</th>\n",
       "      <th>pickup_latitude</th>\n",
       "      <th>dropoff_longitude</th>\n",
       "      <th>dropoff_latitude</th>\n",
       "      <th>store_and_fwd_flag</th>\n",
       "      <th>trip_duration</th>\n",
       "      <th>month</th>\n",
       "      <th>week</th>\n",
       "      <th>weekday</th>\n",
       "      <th>minuteoftheday</th>\n",
       "      <th>real_hour</th>\n",
       "      <th>rush_hour</th>\n",
       "      <th>is_weekend</th>\n",
       "      <th>distance</th>\n",
       "    </tr>\n",
       "  </thead>\n",
       "  <tbody>\n",
       "    <tr>\n",
       "      <th>0</th>\n",
       "      <td>2</td>\n",
       "      <td>1</td>\n",
       "      <td>-73.982155</td>\n",
       "      <td>40.767937</td>\n",
       "      <td>-73.964630</td>\n",
       "      <td>40.765602</td>\n",
       "      <td>0</td>\n",
       "      <td>455</td>\n",
       "      <td>3</td>\n",
       "      <td>11</td>\n",
       "      <td>0</td>\n",
       "      <td>1044</td>\n",
       "      <td>17.400000</td>\n",
       "      <td>3</td>\n",
       "      <td>0</td>\n",
       "      <td>1.498050</td>\n",
       "    </tr>\n",
       "    <tr>\n",
       "      <th>1</th>\n",
       "      <td>1</td>\n",
       "      <td>1</td>\n",
       "      <td>-73.980415</td>\n",
       "      <td>40.738564</td>\n",
       "      <td>-73.999481</td>\n",
       "      <td>40.731152</td>\n",
       "      <td>0</td>\n",
       "      <td>663</td>\n",
       "      <td>6</td>\n",
       "      <td>23</td>\n",
       "      <td>6</td>\n",
       "      <td>43</td>\n",
       "      <td>0.716667</td>\n",
       "      <td>0</td>\n",
       "      <td>1</td>\n",
       "      <td>1.804940</td>\n",
       "    </tr>\n",
       "    <tr>\n",
       "      <th>2</th>\n",
       "      <td>2</td>\n",
       "      <td>1</td>\n",
       "      <td>-73.979027</td>\n",
       "      <td>40.763939</td>\n",
       "      <td>-74.005333</td>\n",
       "      <td>40.710087</td>\n",
       "      <td>0</td>\n",
       "      <td>2124</td>\n",
       "      <td>1</td>\n",
       "      <td>3</td>\n",
       "      <td>1</td>\n",
       "      <td>695</td>\n",
       "      <td>11.583333</td>\n",
       "      <td>2</td>\n",
       "      <td>0</td>\n",
       "      <td>6.383094</td>\n",
       "    </tr>\n",
       "    <tr>\n",
       "      <th>3</th>\n",
       "      <td>2</td>\n",
       "      <td>1</td>\n",
       "      <td>-74.010040</td>\n",
       "      <td>40.719971</td>\n",
       "      <td>-74.012268</td>\n",
       "      <td>40.706718</td>\n",
       "      <td>0</td>\n",
       "      <td>429</td>\n",
       "      <td>4</td>\n",
       "      <td>14</td>\n",
       "      <td>2</td>\n",
       "      <td>1172</td>\n",
       "      <td>19.533333</td>\n",
       "      <td>3</td>\n",
       "      <td>0</td>\n",
       "      <td>1.485032</td>\n",
       "    </tr>\n",
       "    <tr>\n",
       "      <th>4</th>\n",
       "      <td>2</td>\n",
       "      <td>1</td>\n",
       "      <td>-73.973053</td>\n",
       "      <td>40.793209</td>\n",
       "      <td>-73.972923</td>\n",
       "      <td>40.782520</td>\n",
       "      <td>0</td>\n",
       "      <td>435</td>\n",
       "      <td>3</td>\n",
       "      <td>12</td>\n",
       "      <td>5</td>\n",
       "      <td>810</td>\n",
       "      <td>13.500000</td>\n",
       "      <td>2</td>\n",
       "      <td>1</td>\n",
       "      <td>1.188215</td>\n",
       "    </tr>\n",
       "  </tbody>\n",
       "</table>\n",
       "</div>"
      ],
      "text/plain": [
       "   vendor_id  passenger_count  pickup_longitude  pickup_latitude  \\\n",
       "0          2                1        -73.982155        40.767937   \n",
       "1          1                1        -73.980415        40.738564   \n",
       "2          2                1        -73.979027        40.763939   \n",
       "3          2                1        -74.010040        40.719971   \n",
       "4          2                1        -73.973053        40.793209   \n",
       "\n",
       "   dropoff_longitude  dropoff_latitude  store_and_fwd_flag  trip_duration  \\\n",
       "0         -73.964630         40.765602                   0            455   \n",
       "1         -73.999481         40.731152                   0            663   \n",
       "2         -74.005333         40.710087                   0           2124   \n",
       "3         -74.012268         40.706718                   0            429   \n",
       "4         -73.972923         40.782520                   0            435   \n",
       "\n",
       "   month  week  weekday  minuteoftheday  real_hour  rush_hour  is_weekend  \\\n",
       "0      3    11        0            1044  17.400000          3           0   \n",
       "1      6    23        6              43   0.716667          0           1   \n",
       "2      1     3        1             695  11.583333          2           0   \n",
       "3      4    14        2            1172  19.533333          3           0   \n",
       "4      3    12        5             810  13.500000          2           1   \n",
       "\n",
       "   distance  \n",
       "0  1.498050  \n",
       "1  1.804940  \n",
       "2  6.383094  \n",
       "3  1.485032  \n",
       "4  1.188215  "
      ]
     },
     "execution_count": 20,
     "metadata": {},
     "output_type": "execute_result"
    }
   ],
   "source": [
    "data1.head()"
   ]
  },
  {
   "cell_type": "code",
   "execution_count": 21,
   "id": "5c25f376",
   "metadata": {},
   "outputs": [],
   "source": [
    "def find_outliers(col):\n",
    "    z=np.abs(stats.zscore(col))\n",
    "    idx_outliers=np.where(z>3,True,False)\n",
    "    return pd.Series(idx_outliers,index=col.index)"
   ]
  },
  {
   "cell_type": "code",
   "execution_count": 22,
   "id": "4a98bb55",
   "metadata": {},
   "outputs": [],
   "source": [
    "data_outliers=pd.DataFrame()\n",
    "for col in data1.describe().columns:\n",
    "    data_outliers[col]=find_outliers(data1[col])"
   ]
  },
  {
   "cell_type": "code",
   "execution_count": 23,
   "id": "19c9099c",
   "metadata": {},
   "outputs": [],
   "source": [
    "test_outs=data_outliers.apply(lambda x:np.any(x),axis=1)"
   ]
  },
  {
   "cell_type": "code",
   "execution_count": 24,
   "id": "c9844077",
   "metadata": {},
   "outputs": [
    {
     "data": {
      "text/plain": [
       "9.118948831928833"
      ]
     },
     "execution_count": 24,
     "metadata": {},
     "output_type": "execute_result"
    }
   ],
   "source": [
    "(np.sum(test_outs)/data.shape[0])*100"
   ]
  },
  {
   "cell_type": "markdown",
   "id": "5b9db301",
   "metadata": {},
   "source": [
    "#### From above,we can see dataset contains more than 9% outliers.It will be a huge information loss if we remove these datapoints from our training set.I have decided to use tree based methods since they are robust to outliers."
   ]
  },
  {
   "cell_type": "markdown",
   "id": "f62a968e",
   "metadata": {},
   "source": [
    "## Decision Tree :"
   ]
  },
  {
   "cell_type": "code",
   "execution_count": 24,
   "id": "f3ba6b64",
   "metadata": {},
   "outputs": [],
   "source": [
    "from sklearn.tree import DecisionTreeRegressor"
   ]
  },
  {
   "cell_type": "code",
   "execution_count": 23,
   "id": "79fdd25c",
   "metadata": {},
   "outputs": [
    {
     "data": {
      "text/plain": [
       "DecisionTreeRegressor(random_state=2)"
      ]
     },
     "execution_count": 23,
     "metadata": {},
     "output_type": "execute_result"
    }
   ],
   "source": [
    "model=DecisionTreeRegressor(random_state=2)\n",
    "model.fit(X_train,y_train)"
   ]
  },
  {
   "cell_type": "code",
   "execution_count": 24,
   "id": "978e66cd",
   "metadata": {},
   "outputs": [
    {
     "name": "stdout",
     "output_type": "stream",
     "text": [
      "1.0\n",
      "-0.5132195130806525\n"
     ]
    }
   ],
   "source": [
    "#Training Error\n",
    "print(model.score(X_train,y_train))\n",
    "\n",
    "#Test Error\n",
    "print(model.score(x_test,y_test))"
   ]
  },
  {
   "cell_type": "code",
   "execution_count": 25,
   "id": "2cf26ae8",
   "metadata": {},
   "outputs": [],
   "source": [
    "y_pred_train=model.predict(X_train)\n",
    "y_pred_test=model.predict(x_test)"
   ]
  },
  {
   "cell_type": "code",
   "execution_count": 33,
   "id": "188a51c4",
   "metadata": {},
   "outputs": [],
   "source": [
    "from sklearn.metrics import mean_squared_log_error"
   ]
  },
  {
   "cell_type": "code",
   "execution_count": 27,
   "id": "e74088aa",
   "metadata": {},
   "outputs": [
    {
     "name": "stdout",
     "output_type": "stream",
     "text": [
      "0.0\n",
      "0.5927991930154244\n"
     ]
    }
   ],
   "source": [
    "#Training error\n",
    "print(np.sqrt(mean_squared_log_error(y_train, y_pred_train)))\n",
    "\n",
    "#Test error\n",
    "print(np.sqrt(mean_squared_log_error(y_test, y_pred_test)))"
   ]
  },
  {
   "cell_type": "code",
   "execution_count": 30,
   "id": "d903c9b9",
   "metadata": {},
   "outputs": [
    {
     "name": "stdout",
     "output_type": "stream",
     "text": [
      "65\n"
     ]
    }
   ],
   "source": [
    "print(model.get_depth())"
   ]
  },
  {
   "cell_type": "code",
   "execution_count": 31,
   "id": "94c80890",
   "metadata": {},
   "outputs": [
    {
     "name": "stdout",
     "output_type": "stream",
     "text": [
      "1158240\n"
     ]
    }
   ],
   "source": [
    "print(model.get_n_leaves())"
   ]
  },
  {
   "cell_type": "code",
   "execution_count": 44,
   "id": "0b5da2a7",
   "metadata": {},
   "outputs": [],
   "source": [
    "from sklearn.model_selection import  GridSearchCV"
   ]
  },
  {
   "cell_type": "code",
   "execution_count": 55,
   "id": "b9ceedf9",
   "metadata": {},
   "outputs": [],
   "source": [
    "m_depth=[20,15,10]\n",
    "train_error=[]\n",
    "test_error=[]\n",
    "for i in m_depth:\n",
    "    model=DecisionTreeRegressor(max_depth=i,random_state=0)\n",
    "    model.fit(X_train,y_train)\n",
    "    y_pred_train=model.predict(X_train)\n",
    "    y_pred_test=model.predict(x_test)\n",
    "    train_error.append(np.sqrt(mean_squared_log_error(y_train, y_pred_train)))\n",
    "    test_error.append(np.sqrt(mean_squared_log_error(y_test, y_pred_test)))\n",
    "    "
   ]
  },
  {
   "cell_type": "code",
   "execution_count": 56,
   "id": "46d18d6d",
   "metadata": {},
   "outputs": [
    {
     "data": {
      "text/plain": [
       "[0.43726432742477, 0.520559801552856, 0.5667834440458854]"
      ]
     },
     "execution_count": 56,
     "metadata": {},
     "output_type": "execute_result"
    }
   ],
   "source": [
    "train_error"
   ]
  },
  {
   "cell_type": "code",
   "execution_count": 57,
   "id": "f9b405f1",
   "metadata": {},
   "outputs": [
    {
     "data": {
      "text/plain": [
       "[0.547195656977285, 0.5546613946841035, 0.5720884286784601]"
      ]
     },
     "execution_count": 57,
     "metadata": {},
     "output_type": "execute_result"
    }
   ],
   "source": [
    "test_error"
   ]
  },
  {
   "cell_type": "code",
   "execution_count": 25,
   "id": "10ed4947",
   "metadata": {},
   "outputs": [],
   "source": [
    "model=DecisionTreeRegressor(max_depth=20,random_state=0)"
   ]
  },
  {
   "cell_type": "code",
   "execution_count": 26,
   "id": "73d6c132",
   "metadata": {},
   "outputs": [],
   "source": [
    "from sklearn.model_selection import cross_val_score"
   ]
  },
  {
   "cell_type": "code",
   "execution_count": 28,
   "id": "8c46ad65",
   "metadata": {},
   "outputs": [],
   "source": [
    "scores = cross_val_score(model, X, y, cv=5, scoring='neg_mean_squared_log_error')"
   ]
  },
  {
   "cell_type": "code",
   "execution_count": 31,
   "id": "9c18ec55",
   "metadata": {},
   "outputs": [],
   "source": [
    "scores=np.sqrt(np.abs(np.array(scores)))"
   ]
  },
  {
   "cell_type": "markdown",
   "id": "f1bd5524",
   "metadata": {},
   "source": [
    "#### Estimated error for decision tree after tunning:"
   ]
  },
  {
   "cell_type": "code",
   "execution_count": 33,
   "id": "5d514347",
   "metadata": {},
   "outputs": [
    {
     "data": {
      "text/plain": [
       "0.5448897076602084"
      ]
     },
     "execution_count": 33,
     "metadata": {},
     "output_type": "execute_result"
    }
   ],
   "source": [
    "scores.mean()"
   ]
  },
  {
   "cell_type": "markdown",
   "id": "8a86ec4c",
   "metadata": {},
   "source": [
    "# Random Forest:"
   ]
  },
  {
   "cell_type": "code",
   "execution_count": 22,
   "id": "767b12ae",
   "metadata": {},
   "outputs": [],
   "source": [
    "from sklearn.ensemble import RandomForestRegressor"
   ]
  },
  {
   "cell_type": "code",
   "execution_count": 25,
   "id": "e13e835c",
   "metadata": {},
   "outputs": [],
   "source": [
    "regr=RandomForestRegressor(n_estimators=20,random_state=0)"
   ]
  },
  {
   "cell_type": "code",
   "execution_count": 26,
   "id": "1871b50b",
   "metadata": {},
   "outputs": [
    {
     "data": {
      "text/plain": [
       "RandomForestRegressor(n_estimators=20, random_state=0)"
      ]
     },
     "execution_count": 26,
     "metadata": {},
     "output_type": "execute_result"
    }
   ],
   "source": [
    "regr.fit(X_train,y_train)"
   ]
  },
  {
   "cell_type": "code",
   "execution_count": 28,
   "id": "65e4b2a1",
   "metadata": {},
   "outputs": [],
   "source": [
    "y_pred_train=regr.predict(X_train)\n",
    "y_pred_test=regr.predict(x_test)"
   ]
  },
  {
   "cell_type": "code",
   "execution_count": 31,
   "id": "132e98ad",
   "metadata": {},
   "outputs": [
    {
     "name": "stdout",
     "output_type": "stream",
     "text": [
      "0.3100378067612447\n"
     ]
    }
   ],
   "source": [
    "# training error\n",
    "print(np.sqrt(mean_squared_log_error(y_train, y_pred_train)))"
   ]
  },
  {
   "cell_type": "code",
   "execution_count": 32,
   "id": "a043aac2",
   "metadata": {},
   "outputs": [
    {
     "name": "stdout",
     "output_type": "stream",
     "text": [
      "0.5744315978472634\n"
     ]
    }
   ],
   "source": [
    "#testing error\n",
    "print(np.sqrt(mean_squared_log_error(y_test, y_pred_test)))"
   ]
  },
  {
   "cell_type": "markdown",
   "id": "0083291c",
   "metadata": {},
   "source": [
    "## XGboost:"
   ]
  },
  {
   "cell_type": "code",
   "execution_count": 25,
   "id": "d76bfa2d",
   "metadata": {},
   "outputs": [],
   "source": [
    "dtrain = xgb.DMatrix(X_train, label=y_train)\n",
    "dvalid = xgb.DMatrix(x_test, label=y_test)\n",
    "watchlist = [(dtrain, 'train'), (dvalid, 'valid')]\n",
    "\n",
    "# Try different parameters! My favorite is random search :)\n",
    "xgb_pars = {'min_child_weight': 50, 'eta': 0.3, 'colsample_bytree': 0.3, 'max_depth': 10,\n",
    "            'subsample': 0.8, 'lambda': 1., 'nthread': 4, 'booster' : 'gbtree', 'silent': 1,\n",
    "            'eval_metric': 'rmse', 'objective': 'reg:linear'}"
   ]
  },
  {
   "cell_type": "code",
   "execution_count": 26,
   "id": "97e137a5",
   "metadata": {},
   "outputs": [
    {
     "name": "stderr",
     "output_type": "stream",
     "text": [
      "C:\\Users\\Hp\\anaconda3\\lib\\site-packages\\xgboost\\core.py:525: FutureWarning: Pass `evals` as keyword args.  Passing these as positional arguments will be considered as error in future releases.\n",
      "  warnings.warn(\n"
     ]
    },
    {
     "name": "stdout",
     "output_type": "stream",
     "text": [
      "[16:12:30] WARNING: C:/Users/Administrator/workspace/xgboost-win64_release_1.6.0/src/objective/regression_obj.cu:203: reg:linear is now deprecated in favor of reg:squarederror.\n",
      "[16:12:30] WARNING: C:/Users/Administrator/workspace/xgboost-win64_release_1.6.0/src/learner.cc:627: \n",
      "Parameters: { \"silent\" } might not be used.\n",
      "\n",
      "  This could be a false alarm, with some parameters getting used by language bindings but\n",
      "  then being mistakenly passed down to XGBoost core, or some parameter actually being used\n",
      "  but getting flagged wrongly here. Please open an issue if you find any such cases.\n",
      "\n",
      "\n",
      "[0]\ttrain-rmse:4.24109\tvalid-rmse:4.23907\n",
      "[10]\ttrain-rmse:0.52650\tvalid-rmse:0.53115\n",
      "[20]\ttrain-rmse:0.46837\tvalid-rmse:0.47686\n",
      "[30]\ttrain-rmse:0.44292\tvalid-rmse:0.45446\n",
      "[40]\ttrain-rmse:0.43177\tvalid-rmse:0.44555\n",
      "[50]\ttrain-rmse:0.42365\tvalid-rmse:0.44030\n",
      "[60]\ttrain-rmse:0.42063\tvalid-rmse:0.43858\n",
      "[70]\ttrain-rmse:0.41446\tvalid-rmse:0.43457\n",
      "[80]\ttrain-rmse:0.40767\tvalid-rmse:0.42923\n",
      "[90]\ttrain-rmse:0.40264\tvalid-rmse:0.42539\n",
      "[100]\ttrain-rmse:0.39955\tvalid-rmse:0.42354\n",
      "[110]\ttrain-rmse:0.39235\tvalid-rmse:0.41842\n",
      "[120]\ttrain-rmse:0.39021\tvalid-rmse:0.41736\n",
      "[130]\ttrain-rmse:0.38830\tvalid-rmse:0.41668\n",
      "[140]\ttrain-rmse:0.38540\tvalid-rmse:0.41524\n",
      "[150]\ttrain-rmse:0.38423\tvalid-rmse:0.41498\n",
      "[160]\ttrain-rmse:0.38359\tvalid-rmse:0.41496\n",
      "[170]\ttrain-rmse:0.38228\tvalid-rmse:0.41470\n",
      "[180]\ttrain-rmse:0.38148\tvalid-rmse:0.41466\n",
      "[190]\ttrain-rmse:0.38048\tvalid-rmse:0.41432\n",
      "[200]\ttrain-rmse:0.37950\tvalid-rmse:0.41399\n",
      "[210]\ttrain-rmse:0.37880\tvalid-rmse:0.41421\n",
      "[220]\ttrain-rmse:0.37751\tvalid-rmse:0.41374\n",
      "[230]\ttrain-rmse:0.37705\tvalid-rmse:0.41382\n",
      "[240]\ttrain-rmse:0.37638\tvalid-rmse:0.41380\n",
      "[250]\ttrain-rmse:0.37569\tvalid-rmse:0.41393\n",
      "[260]\ttrain-rmse:0.37520\tvalid-rmse:0.41401\n",
      "[264]\ttrain-rmse:0.37494\tvalid-rmse:0.41386\n"
     ]
    }
   ],
   "source": [
    "model_xgb = xgb.train(xgb_pars, dtrain, 500, watchlist, early_stopping_rounds=50,\n",
    "                  maximize=False, verbose_eval=10)"
   ]
  },
  {
   "cell_type": "code",
   "execution_count": 27,
   "id": "f57fa598",
   "metadata": {},
   "outputs": [],
   "source": [
    "D_X_train=xgb.DMatrix(X_train)\n",
    "D_x_test=xgb.DMatrix(x_test)\n",
    "D_y_train=xgb.DMatrix(y_train)\n",
    "D_y_test=xgb.DMatrix(y_test)"
   ]
  },
  {
   "cell_type": "code",
   "execution_count": 28,
   "id": "b98f8e81",
   "metadata": {},
   "outputs": [],
   "source": [
    "y_pred_train=model_xgb.predict(D_X_train)\n",
    "y_pred_test=model_xgb.predict(D_x_test)"
   ]
  },
  {
   "cell_type": "code",
   "execution_count": 29,
   "id": "c048c40b",
   "metadata": {},
   "outputs": [],
   "source": [
    "y_pred_train=np.exp(y_pred_train)\n",
    "y_pred_test=np.exp(y_pred_test)"
   ]
  },
  {
   "cell_type": "code",
   "execution_count": 30,
   "id": "16882057",
   "metadata": {},
   "outputs": [
    {
     "data": {
      "text/plain": [
       "array([ 711.2352 ,  949.7953 ,  577.05597, ..., 1558.8024 , 1332.8948 ,\n",
       "        896.24384], dtype=float32)"
      ]
     },
     "execution_count": 30,
     "metadata": {},
     "output_type": "execute_result"
    }
   ],
   "source": [
    "y_pred_train"
   ]
  },
  {
   "cell_type": "code",
   "execution_count": 31,
   "id": "2218acfc",
   "metadata": {},
   "outputs": [],
   "source": [
    "y_pred_train[y_pred_train < 0]=0"
   ]
  },
  {
   "cell_type": "code",
   "execution_count": 32,
   "id": "8e6da05c",
   "metadata": {},
   "outputs": [],
   "source": [
    "y_pred_test[y_pred_test < 0]=0"
   ]
  },
  {
   "cell_type": "code",
   "execution_count": 33,
   "id": "8a77e395",
   "metadata": {},
   "outputs": [],
   "source": [
    "y_train=np.exp(y_train)\n",
    "y_test=np.exp(y_test)"
   ]
  },
  {
   "cell_type": "code",
   "execution_count": 34,
   "id": "cc0493ad",
   "metadata": {},
   "outputs": [
    {
     "name": "stdout",
     "output_type": "stream",
     "text": [
      "Training Error:  0.3728001319927752\n",
      "Testing Error:  0.4110506608525764\n"
     ]
    }
   ],
   "source": [
    "# training error\n",
    "print(\"Training Error: \",np.sqrt(mean_squared_log_error(y_train, y_pred_train)))\n",
    "\n",
    "#testing error\n",
    "print(\"Testing Error: \",np.sqrt(mean_squared_log_error(y_test, y_pred_test)))"
   ]
  },
  {
   "cell_type": "code",
   "execution_count": 35,
   "id": "dd76826e",
   "metadata": {},
   "outputs": [
    {
     "data": {
      "text/plain": [
       "<AxesSubplot:title={'center':'Feature importance'}, xlabel='F score', ylabel='Features'>"
      ]
     },
     "execution_count": 35,
     "metadata": {},
     "output_type": "execute_result"
    },
    {
     "data": {
      "image/png": "[encoded data removed]",
      "text/plain": [
       "<Figure size 432x288 with 1 Axes>"
      ]
     },
     "metadata": {
      "needs_background": "light"
     },
     "output_type": "display_data"
    }
   ],
   "source": [
    "xgb.plot_importance(model_xgb)"
   ]
  },
  {
   "cell_type": "markdown",
   "id": "678c42c0",
   "metadata": {},
   "source": [
    "### Training Final Model With Full Dataset For Final Submission"
   ]
  },
  {
   "cell_type": "code",
   "execution_count": 54,
   "id": "f0588a42",
   "metadata": {},
   "outputs": [
    {
     "name": "stdout",
     "output_type": "stream",
     "text": [
      "[18:46:24] WARNING: C:/Users/Administrator/workspace/xgboost-win64_release_1.6.0/src/objective/regression_obj.cu:203: reg:linear is now deprecated in favor of reg:squarederror.\n",
      "[18:46:24] WARNING: C:/Users/Administrator/workspace/xgboost-win64_release_1.6.0/src/learner.cc:627: \n",
      "Parameters: { \"silent\" } might not be used.\n",
      "\n",
      "  This could be a false alarm, with some parameters getting used by language bindings but\n",
      "  then being mistakenly passed down to XGBoost core, or some parameter actually being used\n",
      "  but getting flagged wrongly here. Please open an issue if you find any such cases.\n",
      "\n",
      "\n"
     ]
    }
   ],
   "source": [
    "dtrainf=xgb.DMatrix(X,label=log_y)\n",
    "model_xgb = xgb.train(xgb_pars, dtrainf, 264, maximize=False, verbose_eval=10)"
   ]
  },
  {
   "cell_type": "code",
   "execution_count": 40,
   "id": "72f1f72f",
   "metadata": {},
   "outputs": [],
   "source": [
    "X_testf=pd.read_csv('test.csv')"
   ]
  },
  {
   "cell_type": "code",
   "execution_count": 41,
   "id": "2c0fd0d1",
   "metadata": {},
   "outputs": [
    {
     "data": {
      "text/html": [
       "<div>\n",
       "<style scoped>\n",
       "    .dataframe tbody tr th:only-of-type {\n",
       "        vertical-align: middle;\n",
       "    }\n",
       "\n",
       "    .dataframe tbody tr th {\n",
       "        vertical-align: top;\n",
       "    }\n",
       "\n",
       "    .dataframe thead th {\n",
       "        text-align: right;\n",
       "    }\n",
       "</style>\n",
       "<table border=\"1\" class=\"dataframe\">\n",
       "  <thead>\n",
       "    <tr style=\"text-align: right;\">\n",
       "      <th></th>\n",
       "      <th>id</th>\n",
       "      <th>vendor_id</th>\n",
       "      <th>pickup_datetime</th>\n",
       "      <th>passenger_count</th>\n",
       "      <th>pickup_longitude</th>\n",
       "      <th>pickup_latitude</th>\n",
       "      <th>dropoff_longitude</th>\n",
       "      <th>dropoff_latitude</th>\n",
       "      <th>store_and_fwd_flag</th>\n",
       "    </tr>\n",
       "  </thead>\n",
       "  <tbody>\n",
       "    <tr>\n",
       "      <th>0</th>\n",
       "      <td>id3004672</td>\n",
       "      <td>1</td>\n",
       "      <td>2016-06-30 23:59:58</td>\n",
       "      <td>1</td>\n",
       "      <td>-73.988129</td>\n",
       "      <td>40.732029</td>\n",
       "      <td>-73.990173</td>\n",
       "      <td>40.756680</td>\n",
       "      <td>N</td>\n",
       "    </tr>\n",
       "    <tr>\n",
       "      <th>1</th>\n",
       "      <td>id3505355</td>\n",
       "      <td>1</td>\n",
       "      <td>2016-06-30 23:59:53</td>\n",
       "      <td>1</td>\n",
       "      <td>-73.964203</td>\n",
       "      <td>40.679993</td>\n",
       "      <td>-73.959808</td>\n",
       "      <td>40.655403</td>\n",
       "      <td>N</td>\n",
       "    </tr>\n",
       "    <tr>\n",
       "      <th>2</th>\n",
       "      <td>id1217141</td>\n",
       "      <td>1</td>\n",
       "      <td>2016-06-30 23:59:47</td>\n",
       "      <td>1</td>\n",
       "      <td>-73.997437</td>\n",
       "      <td>40.737583</td>\n",
       "      <td>-73.986160</td>\n",
       "      <td>40.729523</td>\n",
       "      <td>N</td>\n",
       "    </tr>\n",
       "    <tr>\n",
       "      <th>3</th>\n",
       "      <td>id2150126</td>\n",
       "      <td>2</td>\n",
       "      <td>2016-06-30 23:59:41</td>\n",
       "      <td>1</td>\n",
       "      <td>-73.956070</td>\n",
       "      <td>40.771900</td>\n",
       "      <td>-73.986427</td>\n",
       "      <td>40.730469</td>\n",
       "      <td>N</td>\n",
       "    </tr>\n",
       "    <tr>\n",
       "      <th>4</th>\n",
       "      <td>id1598245</td>\n",
       "      <td>1</td>\n",
       "      <td>2016-06-30 23:59:33</td>\n",
       "      <td>1</td>\n",
       "      <td>-73.970215</td>\n",
       "      <td>40.761475</td>\n",
       "      <td>-73.961510</td>\n",
       "      <td>40.755890</td>\n",
       "      <td>N</td>\n",
       "    </tr>\n",
       "  </tbody>\n",
       "</table>\n",
       "</div>"
      ],
      "text/plain": [
       "          id  vendor_id      pickup_datetime  passenger_count  \\\n",
       "0  id3004672          1  2016-06-30 23:59:58                1   \n",
       "1  id3505355          1  2016-06-30 23:59:53                1   \n",
       "2  id1217141          1  2016-06-30 23:59:47                1   \n",
       "3  id2150126          2  2016-06-30 23:59:41                1   \n",
       "4  id1598245          1  2016-06-30 23:59:33                1   \n",
       "\n",
       "   pickup_longitude  pickup_latitude  dropoff_longitude  dropoff_latitude  \\\n",
       "0        -73.988129        40.732029         -73.990173         40.756680   \n",
       "1        -73.964203        40.679993         -73.959808         40.655403   \n",
       "2        -73.997437        40.737583         -73.986160         40.729523   \n",
       "3        -73.956070        40.771900         -73.986427         40.730469   \n",
       "4        -73.970215        40.761475         -73.961510         40.755890   \n",
       "\n",
       "  store_and_fwd_flag  \n",
       "0                  N  \n",
       "1                  N  \n",
       "2                  N  \n",
       "3                  N  \n",
       "4                  N  "
      ]
     },
     "execution_count": 41,
     "metadata": {},
     "output_type": "execute_result"
    }
   ],
   "source": [
    "X_testf.head()"
   ]
  },
  {
   "cell_type": "code",
   "execution_count": 43,
   "id": "78b59d35",
   "metadata": {},
   "outputs": [
    {
     "name": "stderr",
     "output_type": "stream",
     "text": [
      "C:\\Users\\Hp\\AppData\\Local\\Temp/ipykernel_1900/143237962.py:4: FutureWarning: Series.dt.weekofyear and Series.dt.week have been deprecated.  Please use Series.dt.isocalendar().week instead.\n",
      "  X_testf[\"week\"]=X_testf[\"pickup_datetime\"].dt.week\n"
     ]
    }
   ],
   "source": [
    "X_testf[\"pickup_datetime\"]=pd.to_datetime(X_testf[\"pickup_datetime\"])\n",
    "\n",
    "X_testf[\"month\"]=X_testf[\"pickup_datetime\"].dt.month\n",
    "X_testf[\"week\"]=X_testf[\"pickup_datetime\"].dt.week\n",
    "X_testf[\"weekday\"]=X_testf[\"pickup_datetime\"].dt.weekday\n",
    "X_testf[\"hour\"]=X_testf[\"pickup_datetime\"].dt.hour\n",
    "X_testf[\"minute\"]=X_testf[\"pickup_datetime\"].dt.minute\n",
    "X_testf[\"minuteoftheday\"]=X_testf[\"hour\"]*60 + X_testf[\"minute\"]\n",
    "X_testf[\"real_hour\"]=X_testf[\"minuteoftheday\"]/60\n",
    "\n",
    "X_testf[\"rush_hour\"]=X_testf.apply(rush_hour_f,axis=1)\n",
    "X_testf[\"is_weekend\"]=X_testf[\"weekday\"] > 4"
   ]
  },
  {
   "cell_type": "code",
   "execution_count": 44,
   "id": "ab4b53d7",
   "metadata": {},
   "outputs": [
    {
     "name": "stderr",
     "output_type": "stream",
     "text": [
      "C:\\Users\\Hp\\anaconda3\\lib\\site-packages\\statsmodels\\tsa\\tsatools.py:142: FutureWarning: In a future version of pandas all arguments of concat except for the argument 'objs' will be keyword-only\n",
      "  x = pd.concat(x[::order], 1)\n"
     ]
    }
   ],
   "source": [
    "X_testf=X_testf.drop([\"id\",\"pickup_datetime\",\"hour\",\"minute\"],axis=1)\n",
    "\n",
    "X_testf[\"distance\"]=X_testf.apply(haversine,axis=1)\n",
    "\n",
    "clean_up={\"store_and_fwd_flag\":{\"N\":0,\"Y\":1},\n",
    "          \"is_weekend\":{False:0,True:1}}\n",
    "X_testf=X_testf.replace(clean_up)\n",
    "\n",
    "X_testf=sm.add_constant(X_testf)"
   ]
  },
  {
   "cell_type": "code",
   "execution_count": 47,
   "id": "be5eb3f4",
   "metadata": {},
   "outputs": [
    {
     "data": {
      "text/html": [
       "<div>\n",
       "<style scoped>\n",
       "    .dataframe tbody tr th:only-of-type {\n",
       "        vertical-align: middle;\n",
       "    }\n",
       "\n",
       "    .dataframe tbody tr th {\n",
       "        vertical-align: top;\n",
       "    }\n",
       "\n",
       "    .dataframe thead th {\n",
       "        text-align: right;\n",
       "    }\n",
       "</style>\n",
       "<table border=\"1\" class=\"dataframe\">\n",
       "  <thead>\n",
       "    <tr style=\"text-align: right;\">\n",
       "      <th></th>\n",
       "      <th>const</th>\n",
       "      <th>vendor_id</th>\n",
       "      <th>passenger_count</th>\n",
       "      <th>pickup_longitude</th>\n",
       "      <th>pickup_latitude</th>\n",
       "      <th>dropoff_longitude</th>\n",
       "      <th>dropoff_latitude</th>\n",
       "      <th>store_and_fwd_flag</th>\n",
       "      <th>month</th>\n",
       "      <th>week</th>\n",
       "      <th>weekday</th>\n",
       "      <th>minuteoftheday</th>\n",
       "      <th>real_hour</th>\n",
       "      <th>rush_hour</th>\n",
       "      <th>is_weekend</th>\n",
       "      <th>distance</th>\n",
       "    </tr>\n",
       "  </thead>\n",
       "  <tbody>\n",
       "    <tr>\n",
       "      <th>0</th>\n",
       "      <td>1.0</td>\n",
       "      <td>1</td>\n",
       "      <td>1</td>\n",
       "      <td>-73.988129</td>\n",
       "      <td>40.732029</td>\n",
       "      <td>-73.990173</td>\n",
       "      <td>40.756680</td>\n",
       "      <td>0</td>\n",
       "      <td>6</td>\n",
       "      <td>26</td>\n",
       "      <td>3</td>\n",
       "      <td>1439</td>\n",
       "      <td>23.983333</td>\n",
       "      <td>0</td>\n",
       "      <td>0</td>\n",
       "      <td>2.745564</td>\n",
       "    </tr>\n",
       "    <tr>\n",
       "      <th>1</th>\n",
       "      <td>1.0</td>\n",
       "      <td>1</td>\n",
       "      <td>1</td>\n",
       "      <td>-73.964203</td>\n",
       "      <td>40.679993</td>\n",
       "      <td>-73.959808</td>\n",
       "      <td>40.655403</td>\n",
       "      <td>0</td>\n",
       "      <td>6</td>\n",
       "      <td>26</td>\n",
       "      <td>3</td>\n",
       "      <td>1439</td>\n",
       "      <td>23.983333</td>\n",
       "      <td>0</td>\n",
       "      <td>0</td>\n",
       "      <td>2.758373</td>\n",
       "    </tr>\n",
       "    <tr>\n",
       "      <th>2</th>\n",
       "      <td>1.0</td>\n",
       "      <td>1</td>\n",
       "      <td>1</td>\n",
       "      <td>-73.997437</td>\n",
       "      <td>40.737583</td>\n",
       "      <td>-73.986160</td>\n",
       "      <td>40.729523</td>\n",
       "      <td>0</td>\n",
       "      <td>6</td>\n",
       "      <td>26</td>\n",
       "      <td>3</td>\n",
       "      <td>1439</td>\n",
       "      <td>23.983333</td>\n",
       "      <td>0</td>\n",
       "      <td>0</td>\n",
       "      <td>1.305745</td>\n",
       "    </tr>\n",
       "    <tr>\n",
       "      <th>3</th>\n",
       "      <td>1.0</td>\n",
       "      <td>2</td>\n",
       "      <td>1</td>\n",
       "      <td>-73.956070</td>\n",
       "      <td>40.771900</td>\n",
       "      <td>-73.986427</td>\n",
       "      <td>40.730469</td>\n",
       "      <td>0</td>\n",
       "      <td>6</td>\n",
       "      <td>26</td>\n",
       "      <td>3</td>\n",
       "      <td>1439</td>\n",
       "      <td>23.983333</td>\n",
       "      <td>0</td>\n",
       "      <td>0</td>\n",
       "      <td>5.267434</td>\n",
       "    </tr>\n",
       "    <tr>\n",
       "      <th>4</th>\n",
       "      <td>1.0</td>\n",
       "      <td>1</td>\n",
       "      <td>1</td>\n",
       "      <td>-73.970215</td>\n",
       "      <td>40.761475</td>\n",
       "      <td>-73.961510</td>\n",
       "      <td>40.755890</td>\n",
       "      <td>0</td>\n",
       "      <td>6</td>\n",
       "      <td>26</td>\n",
       "      <td>3</td>\n",
       "      <td>1439</td>\n",
       "      <td>23.983333</td>\n",
       "      <td>0</td>\n",
       "      <td>0</td>\n",
       "      <td>0.960540</td>\n",
       "    </tr>\n",
       "  </tbody>\n",
       "</table>\n",
       "</div>"
      ],
      "text/plain": [
       "   const  vendor_id  passenger_count  pickup_longitude  pickup_latitude  \\\n",
       "0    1.0          1                1        -73.988129        40.732029   \n",
       "1    1.0          1                1        -73.964203        40.679993   \n",
       "2    1.0          1                1        -73.997437        40.737583   \n",
       "3    1.0          2                1        -73.956070        40.771900   \n",
       "4    1.0          1                1        -73.970215        40.761475   \n",
       "\n",
       "   dropoff_longitude  dropoff_latitude  store_and_fwd_flag  month  week  \\\n",
       "0         -73.990173         40.756680                   0      6    26   \n",
       "1         -73.959808         40.655403                   0      6    26   \n",
       "2         -73.986160         40.729523                   0      6    26   \n",
       "3         -73.986427         40.730469                   0      6    26   \n",
       "4         -73.961510         40.755890                   0      6    26   \n",
       "\n",
       "   weekday  minuteoftheday  real_hour  rush_hour  is_weekend  distance  \n",
       "0        3            1439  23.983333          0           0  2.745564  \n",
       "1        3            1439  23.983333          0           0  2.758373  \n",
       "2        3            1439  23.983333          0           0  1.305745  \n",
       "3        3            1439  23.983333          0           0  5.267434  \n",
       "4        3            1439  23.983333          0           0  0.960540  "
      ]
     },
     "execution_count": 47,
     "metadata": {},
     "output_type": "execute_result"
    }
   ],
   "source": [
    "X_testf.head()"
   ]
  },
  {
   "cell_type": "code",
   "execution_count": 59,
   "id": "ec649cf1",
   "metadata": {},
   "outputs": [],
   "source": [
    "D_X_testf=xgb.DMatrix(X_testf)\n",
    "final_pred=model_xgb.predict(D_X_testf)"
   ]
  },
  {
   "cell_type": "code",
   "execution_count": 60,
   "id": "99f592f5",
   "metadata": {},
   "outputs": [],
   "source": [
    "final_pred=np.exp(np.array(final_pred))"
   ]
  },
  {
   "cell_type": "code",
   "execution_count": 61,
   "id": "416de0e8",
   "metadata": {},
   "outputs": [
    {
     "data": {
      "text/plain": [
       "array([ 866.51227,  506.72607,  426.72302, ..., 2008.6554 , 1824.2739 ,\n",
       "       1185.7404 ], dtype=float32)"
      ]
     },
     "execution_count": 61,
     "metadata": {},
     "output_type": "execute_result"
    }
   ],
   "source": [
    "final_pred"
   ]
  },
  {
   "cell_type": "code",
   "execution_count": 66,
   "id": "27554124",
   "metadata": {},
   "outputs": [],
   "source": [
    "test_data=pd.read_csv('test.csv')\n",
    "customer_id=test_data[\"id\"]"
   ]
  },
  {
   "cell_type": "code",
   "execution_count": 70,
   "id": "e86ce120",
   "metadata": {},
   "outputs": [],
   "source": [
    "df=pd.DataFrame({'id':customer_id,'trip_duration':final_pred})\n",
    "df.to_csv('submission.csv',index=False)"
   ]
  }
 ],
 "metadata": {
  "kernelspec": {
   "display_name": "Python 3 (ipykernel)",
   "language": "python",
   "name": "python3"
  },
  "language_info": {
   "codemirror_mode": {
    "name": "ipython",
    "version": 3
   },
   "file_extension": ".py",
   "mimetype": "text/x-python",
   "name": "python",
   "nbconvert_exporter": "python",
   "pygments_lexer": "ipython3",
   "version": "3.9.7"
  }
 },
 "nbformat": 4,
 "nbformat_minor": 5
}
